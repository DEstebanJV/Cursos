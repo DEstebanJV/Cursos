{
  "nbformat": 4,
  "nbformat_minor": 0,
  "metadata": {
    "colab": {
      "provenance": [],
      "authorship_tag": "ABX9TyM5H43op2ufAVq4scKS53uS",
      "include_colab_link": true
    },
    "kernelspec": {
      "name": "python3",
      "display_name": "Python 3"
    },
    "language_info": {
      "name": "python"
    }
  },
  "cells": [
    {
      "cell_type": "markdown",
      "metadata": {
        "id": "view-in-github",
        "colab_type": "text"
      },
      "source": [
        "<a href=\"https://colab.research.google.com/github/DEstebanJV/Cursos/blob/master/Musica.ipynb\" target=\"_parent\"><img src=\"https://colab.research.google.com/assets/colab-badge.svg\" alt=\"Open In Colab\"/></a>"
      ]
    },
    {
      "cell_type": "code",
      "source": [
        "pip install yt-dlp"
      ],
      "metadata": {
        "id": "IwCIxIPNGlp1"
      },
      "execution_count": null,
      "outputs": []
    },
    {
      "cell_type": "code",
      "execution_count": null,
      "metadata": {
        "id": "dftmtzVVGi8i"
      },
      "outputs": [],
      "source": [
        "from yt_dlp import YoutubeDL\n",
        "\n",
        "def descargar_audio(url, formato_audio='mp3'):\n",
        "    try:\n",
        "        # Opciones de descarga para extraer solo el audio\n",
        "        opciones = {\n",
        "            'format': 'bestaudio/best',  # Selecciona la mejor calidad de audio disponible\n",
        "            'outtmpl': '%(title)s.%(ext)s',  # Nombre del archivo descargado\n",
        "            'postprocessors': [{  # Convertir el audio al formato deseado\n",
        "                'key': 'FFmpegExtractAudio',\n",
        "                'preferredcodec': formato_audio,  # Formato de audio (mp3)\n",
        "                'preferredquality': '192',  # Calidad del audio (opcional)\n",
        "            }],\n",
        "        }\n",
        "\n",
        "        # Descargar el audio\n",
        "        with YoutubeDL(opciones) as ydl:\n",
        "            ydl.download([url])\n",
        "        print(\"¡Descarga de audio completada!\")\n",
        "    except Exception as e:\n",
        "        print(f\"Ocurrió un error: {e}\")\n",
        "\n",
        "if __name__ == \"__main__\":\n",
        "    # URL del video de YouTube\n",
        "    url = input(\"Ingresa la URL del video de YouTube: \")\n",
        "\n",
        "    # Formato de audio (mp3)\n",
        "    formato_audio = 'mp3'  # Siempre descargará en MP3\n",
        "\n",
        "    # Llamar a la función de descarga de audio\n",
        "    descargar_audio(url, formato_audio=formato_audio)"
      ]
    },
    {
      "cell_type": "code",
      "source": [
        "from yt_dlp import YoutubeDL\n",
        "\n",
        "def descargar_video(url, calidad=1080):\n",
        "    try:\n",
        "        opciones = {\n",
        "            'format': f'bestvideo[height<={calidad}][ext=mp4]+bestaudio/best',\n",
        "            'outtmpl': '%(title)s.%(ext)s',\n",
        "            'merge_output_format': 'mp4',\n",
        "            'postprocessors': [{\n",
        "                'key': 'FFmpegVideoConvertor',\n",
        "                'preferedformat': 'mp4',\n",
        "            }],\n",
        "        }\n",
        "\n",
        "        with YoutubeDL(opciones) as ydl:\n",
        "            info = ydl.extract_info(url, download=False)\n",
        "            if info['height'] < calidad:\n",
        "                print(f\"¡Advertencia! El video solo está disponible en {info['height']}p\")\n",
        "\n",
        "            ydl.download([url])\n",
        "\n",
        "        print(\"\\n¡Descarga completada en 1080p!\")\n",
        "\n",
        "    except Exception as e:\n",
        "        print(f\"Error: {e}\")\n",
        "\n",
        "if __name__ == \"__main__\":\n",
        "    url = input(\"Ingresa la URL del video de YouTube: \")\n",
        "    descargar_video(url)"
      ],
      "metadata": {
        "id": "3u9VaeMEMPXF"
      },
      "execution_count": null,
      "outputs": []
    }
  ]
}